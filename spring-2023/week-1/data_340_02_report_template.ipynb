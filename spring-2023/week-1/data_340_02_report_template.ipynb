{
  "nbformat": 4,
  "nbformat_minor": 0,
  "metadata": {
    "colab": {
      "provenance": []
    },
    "kernelspec": {
      "name": "python3",
      "display_name": "Python 3"
    },
    "language_info": {
      "name": "python"
    }
  },
  "cells": [
    {
      "cell_type": "markdown",
      "source": [
        "All Notebooks must start with code which allows opening the file in Google collab. For example the following code, is responsible for the `Open in Colab` blue button.\n",
        "```\n",
        "[![Open in Colab](https://colab.research.google.com/assets/colab-badge.svg)](https://colab.research.google.com/github/gracemorales/DATA-340-02/blob/main/hw0/data_340_02_report_template.ipynb)\n",
        "```\n",
        "[![Open in Colab](https://colab.research.google.com/assets/colab-badge.svg)](https://colab.research.google.com/github/gracemorales/DATA-340-02/blob/main/hw0/data_340_02_report_template.ipynb)\n",
        "\n",
        "Ensure that you include the correct file path of your notebook file. Study the location of my [notebook file on Github](https://github.com/anwala/teaching-network-science/blob/main/spring-2023/week-1/data_340_02_report_template.ipynb) and above path (`github/anwala/teaching-network-science/blob/main/spring-2023/week-1/data_340_02_report_template.ipynb`) I used to produce the blue button. "
      ],
      "metadata": {
        "id": "xTdmMKYmwWOV"
      }
    },
    {
      "cell_type": "markdown",
      "source": [
        "\n",
        "\n",
        "```\n",
        "# This is formatted as code\n",
        "```\n",
        "\n",
        "# Homework 0 - Writing HW Reports\n",
        "### Grace Morales\n",
        "### DATA 340-02, Spring 2023\n",
        "### 02/02/23\n"
      ],
      "metadata": {
        "id": "cnaJOC71wJvb"
      }
    },
    {
      "cell_type": "markdown",
      "source": [],
      "metadata": {
        "id": "9h1Ps6Um3lIH"
      }
    },
    {
      "cell_type": "markdown",
      "source": [
        "# Q1\n",
        "\n",
        "*You may copy the question into your report, but make sure that you make it clear where the question ends and your answer begins.*\n",
        "\n",
        "## Answer\n",
        "\n",
        "This is a picture of a pig I took in cuba.\n",
        "\n",
        "\n",
        "![picture](https://raw.githubusercontent.com/gracemorales/MachineLearning/main/IMG_6172.png)\n",
        "\n",
        "\n",
        "*In addition to screenshots, include code in your report*"
      ],
      "metadata": {
        "id": "N2VNck0DylKe"
      }
    },
    {
      "cell_type": "code",
      "source": [
        "!wget https://raw.githubusercontent.com/gracemorales/MachineLearning/main/IMG_6172.png\n"
      ],
      "metadata": {
        "colab": {
          "base_uri": "https://localhost:8080/"
        },
        "id": "CBS6OB8122iR",
        "outputId": "91545bfc-dedd-4e24-f7d8-ff66ec1d1ee9"
      },
      "execution_count": 11,
      "outputs": [
        {
          "output_type": "stream",
          "name": "stdout",
          "text": [
            "--2023-01-27 20:16:11--  https://raw.githubusercontent.com/gracemorales/MachineLearning/main/IMG_6172.png\n",
            "Resolving raw.githubusercontent.com (raw.githubusercontent.com)... 185.199.108.133, 185.199.109.133, 185.199.110.133, ...\n",
            "Connecting to raw.githubusercontent.com (raw.githubusercontent.com)|185.199.108.133|:443... connected.\n",
            "HTTP request sent, awaiting response... 200 OK\n",
            "Length: 18843566 (18M) [application/octet-stream]\n",
            "Saving to: ‘IMG_6172.png.1’\n",
            "\n",
            "IMG_6172.png.1      100%[===================>]  17.97M  --.-KB/s    in 0.09s   \n",
            "\n",
            "2023-01-27 20:16:13 (197 MB/s) - ‘IMG_6172.png.1’ saved [18843566/18843566]\n",
            "\n"
          ]
        }
      ]
    },
    {
      "cell_type": "code",
      "source": [
        "import random\n",
        "import pandas as pd\n",
        "import numpy as np\n",
        "from scipy.stats import beta\n",
        "import matplotlib.pyplot as plt \n",
        "from scipy.stats import norm\n",
        "\n",
        "data_beta = beta.rvs(a=1.6,b=2.1,size=20000)\n",
        "n = 32\n",
        "means = [np.mean(np.random.choice(data_beta,n,replace=True,p=None)) for _i in range(400)]\n",
        "means = np.array(means)\n",
        "\n",
        "mu = np.mean(data_beta)\n",
        "sigma = np.std(data_beta)/np.sqrt(n)\n",
        "num_bins = 15\n",
        "n, bins, patches = plt.hist(means, num_bins, density=1, edgecolor='black',facecolor='blue', alpha=0.5)\n",
        "# add a 'best fit' line\n",
        "y = norm.pdf(bins, mu, sigma)\n",
        "plt.plot(bins, y, 'r--',lw=3)\n",
        "plt.xlabel('Sample Means')\n",
        "plt.ylabel('Probability')\n",
        "plt.title(r'Histogram and Smooth Density Plot of the Sample Means')"
      ],
      "metadata": {
        "colab": {
          "base_uri": "https://localhost:8080/",
          "height": 313
        },
        "id": "gMfPsTR0zJrJ",
        "outputId": "11bb99d8-d7f4-42bc-f4a4-6f4d2200d6d9"
      },
      "execution_count": 15,
      "outputs": [
        {
          "output_type": "execute_result",
          "data": {
            "text/plain": [
              "Text(0.5, 1.0, 'Histogram and Smooth Density Plot of the Sample Means')"
            ]
          },
          "metadata": {},
          "execution_count": 15
        },
        {
          "output_type": "display_data",
          "data": {
            "text/plain": [
              "<Figure size 432x288 with 1 Axes>"
            ],
            "image/png": "[encoded data removed]"
          },
          "metadata": {
            "needs_background": "light"
          }
        }
      ]
    },
    {
      "cell_type": "markdown",
      "source": [
        "The table below shows a simple table.  \n",
        "\n",
        "|Week|Date|Topic|\n",
        "|:---|:---|:---|\n",
        "|1|Jan 26|Introductions|\n",
        "|2|Jan 31 & Feb 2|Network Elements|\n",
        "|3|Feb 7 & 9|Network Elements|\n",
        "|4|Feb 14 & 16|Small Worlds|"
      ],
      "metadata": {
        "id": "IZ2yQEolpc5R"
      }
    },
    {
      "cell_type": "markdown",
      "source": [
        "## Discussion\n",
        "\n",
        "*I went on the internet and looked up how to get a picture from github to google drive. I found an explanation on stack overflow. I first uploaded my picture to github in a jpeg format. Then I used the syntax the website told me to use, but it didn't work. Then I changed the picture form to png, added a line that retrieved the picture using !wget, and put the image under a not private folder. I think putting the image under a not private folder allowed it to work. \n",
        "\n",
        "For the second part I pasted in code from my Machine Learning class. \n",
        "\n",
        "For the table portion of the question I changed the text in the code to match the syllabus.\n",
        "\n",
        "# Q2\n",
        "\n",
        "## Answer\n",
        "\n",
        "## Discussion\n",
        "\n",
        "# Q3\n",
        "\n",
        "## Answer\n",
        "\n",
        "## Discussion\n",
        "\n",
        "# References\n",
        "\n",
        "*Every report must list the references that you consulted while completing the assignment. If you consulted a webpage, you must include the URL.*\n",
        "\n",
        "* Stack Overflow, <https://stackoverflow.com/questions/61704041/how-may-i-insert-an-image-from-my-github-repository-in-my-google-colab-notebook>\n",
        "* GitHub Docs, <https://docs.github.com/en/get-started/writing-on-github/working-with-advanced-formatting/attaching-files>\n",
        "* GitHub Docs, <https://docs.github.com/en/desktop/contributing-and-collaborating-using-github-desktop/adding-and-cloning-repositories/cloning-and-forking-repositories-from-github-desktop>\n",
        "* Medium, <https://towardsdatascience.com/an-informative-colab-guide-to-load-image-datasets-from-github-kaggle-and-local-machine-75cae89ffa1e>"
      ],
      "metadata": {
        "id": "CL4_WDbOzkGK"
      }
    },
    {
      "cell_type": "code",
      "source": [],
      "metadata": {
        "id": "X78lIybq8kIH"
      },
      "execution_count": null,
      "outputs": []
    }
  ]
}